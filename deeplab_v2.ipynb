{
 "cells": [
  {
   "cell_type": "code",
   "execution_count": 1,
   "metadata": {},
   "outputs": [
    {
     "data": {
      "text/plain": [
       "0"
      ]
     },
     "execution_count": 1,
     "metadata": {},
     "output_type": "execute_result"
    }
   ],
   "source": [
    "# use python2\n",
    "\n",
    "# use only one GPU device\n",
    "import os\n",
    "os.environ['CUDA_VISIBLE_DEVICES']='0'\n",
    "os.system('echo $CUDA_VISIBLE_DEVICES')"
   ]
  },
  {
   "cell_type": "code",
   "execution_count": 2,
   "metadata": {},
   "outputs": [
    {
     "name": "stderr",
     "output_type": "stream",
     "text": [
      "Using TensorFlow backend.\n"
     ]
    }
   ],
   "source": [
    "import tensorflow as tf\n",
    "from keras.backend.tensorflow_backend import set_session"
   ]
  },
  {
   "cell_type": "code",
   "execution_count": 3,
   "metadata": {},
   "outputs": [],
   "source": [
    "config = tf.ConfigProto()"
   ]
  },
  {
   "cell_type": "code",
   "execution_count": 4,
   "metadata": {},
   "outputs": [],
   "source": [
    "config.gpu_options.allow_growth = True"
   ]
  },
  {
   "cell_type": "code",
   "execution_count": 5,
   "metadata": {},
   "outputs": [],
   "source": [
    "set_session(tf.Session(config=config))"
   ]
  },
  {
   "cell_type": "code",
   "execution_count": 6,
   "metadata": {},
   "outputs": [],
   "source": [
    "from keras.models import Model\n",
    "#from keras.layers import Conv2D, MaxPool2D, Dropout, UpSampling2D, Input, Merge\n",
    "from keras.layers import Input, Convolution2D, AtrousConvolution2D, MaxPooling2D, merge, ZeroPadding2D, Dropout, UpSampling2D"
   ]
  },
  {
   "cell_type": "code",
   "execution_count": 7,
   "metadata": {},
   "outputs": [],
   "source": [
    "#from keras.regularizers import l2"
   ]
  },
  {
   "cell_type": "code",
   "execution_count": 8,
   "metadata": {},
   "outputs": [],
   "source": [
    "#weight_decay = 0.01"
   ]
  },
  {
   "cell_type": "code",
   "execution_count": 7,
   "metadata": {},
   "outputs": [],
   "source": [
    "#input_shape = (512, 512, 3)\n",
    "input_shape = (512, 512, 1)\n",
    "img_input = Input(shape=input_shape)"
   ]
  },
  {
   "cell_type": "code",
   "execution_count": 22,
   "metadata": {},
   "outputs": [
    {
     "name": "stderr",
     "output_type": "stream",
     "text": [
      "/root/anaconda2/envs/py2.7_tf1.0/lib/python2.7/site-packages/ipykernel_launcher.py:84: UserWarning: The `merge` function is deprecated and will be removed after 08/2017. Use instead layers from `keras.layers.merge`, e.g. `add`, `concatenate`, etc.\n"
     ]
    }
   ],
   "source": [
    "# building blocks\n",
    "\n",
    "# block1\n",
    "h = ZeroPadding2D(padding=(1,1))(img_input)\n",
    "h = Convolution2D(filters=64, kernel_size=(3,3), activation='relu', name='conv1_1')(h)\n",
    "h = ZeroPadding2D(padding=(1,1))(h)\n",
    "h = Convolution2D(filters=64, kernel_size=(3,3), activation='relu', name='conv1_2')(h)\n",
    "h = ZeroPadding2D(padding=(1,1))(h)\n",
    "h = MaxPooling2D(pool_size=(3,3), strides=(2,2))(h)\n",
    "\n",
    "# block2\n",
    "h = ZeroPadding2D(padding=(1,1))(h)\n",
    "h = Convolution2D(filters=128, kernel_size=(3,3), activation='relu', name='conv2_1')(h)\n",
    "h = ZeroPadding2D(padding=(1,1))(h)\n",
    "h = Convolution2D(filters=128, kernel_size=(3,3), activation='relu', name='conv2_2')(h)\n",
    "h = ZeroPadding2D(padding=(1,1))(h)\n",
    "h = MaxPooling2D(pool_size=(3,3), strides=(2,2))(h)\n",
    "\n",
    "# block3\n",
    "h = ZeroPadding2D(padding=(1,1))(h)\n",
    "h = Convolution2D(filters=256, kernel_size=(3,3), activation='relu', name='conv3_1')(h)\n",
    "h = ZeroPadding2D(padding=(1,1))(h)\n",
    "h = Convolution2D(filters=256, kernel_size=(3,3), activation='relu', name='conv3_2')(h)\n",
    "h = ZeroPadding2D(padding=(1,1))(h)\n",
    "h = Convolution2D(filters=256, kernel_size=(3,3), activation='relu', name='conv3_3')(h)\n",
    "h = ZeroPadding2D(padding=(1,1))(h)\n",
    "h = MaxPooling2D(pool_size=(3,3), strides=(2,2))(h)\n",
    "\n",
    "# block4\n",
    "h = ZeroPadding2D(padding=(1,1))(h)\n",
    "h = Convolution2D(filters=512, kernel_size=(3,3), activation='relu', name='conv4_1')(h)\n",
    "h = ZeroPadding2D(padding=(1,1))(h)\n",
    "h = Convolution2D(filters=512, kernel_size=(3,3), activation='relu', name='conv4_2')(h)\n",
    "h = ZeroPadding2D(padding=(1,1))(h)\n",
    "h = Convolution2D(filters=512, kernel_size=(3,3), activation='relu', name='conv4_3')(h)\n",
    "h = ZeroPadding2D(padding=(1,1))(h)\n",
    "h = MaxPooling2D(pool_size=(3,3), strides=(1,1))(h)\n",
    "\n",
    "# block5 (start to use Atrous convolution)\n",
    "h = ZeroPadding2D(padding=(2,2))(h)\n",
    "h = AtrousConvolution2D(filters=512, atrous_rate=(2,2), kernel_size=(3,3), activation='relu', name='conv5_1')(h)\n",
    "h = ZeroPadding2D(padding=(2,2))(h)\n",
    "h = AtrousConvolution2D(filters=512, atrous_rate=(2,2), kernel_size=(3,3), activation='relu', name='conv5_2')(h)\n",
    "h = ZeroPadding2D(padding=(2,2))(h)\n",
    "h = AtrousConvolution2D(filters=512, atrous_rate=(2,2), kernel_size=(3,3), activation='relu', name='conv5_3')(h)\n",
    "h = ZeroPadding2D(padding=(1,1))(h)\n",
    "h = MaxPooling2D(pool_size=(3,3), strides=(1,1))(h)\n",
    "\n",
    "# atrous (four scales)\n",
    "\n",
    "# atrous rate = 6\n",
    "b1 = ZeroPadding2D(padding=(6,6))(h)\n",
    "b1 = AtrousConvolution2D(filters=1024, atrous_rate=(6,6), kernel_size=(3,3), activation='relu', name='fc6_1')(b1)\n",
    "b1 = Dropout(0.5)(b1)\n",
    "b1 = Convolution2D(filters=1024, kernel_size=(1,1), activation='relu', name='fc7_1')(b1)\n",
    "b1 = Dropout(0.5)(b1)\n",
    "b1 = Convolution2D(filters=21, kernel_size=(1,1), activation='softmax', name='fc8_1')(b1)\n",
    "\n",
    "# atrous rate = 12\n",
    "b2 = ZeroPadding2D(padding=(12,12))(b1)\n",
    "b2 = AtrousConvolution2D(filters=1024, atrous_rate=(12,12), kernel_size=(3,3), activation='relu', name='fc6_2')(b2)\n",
    "b2 = Dropout(0.5)(b2)\n",
    "b2 = Convolution2D(filters=1024, kernel_size=(1,1), activation='relu', name='fc7_2')(b2)\n",
    "b2 = Dropout(0.5)(b2)\n",
    "b2 = Convolution2D(filters=21, kernel_size=(1,1), activation='softmax', name='fc8_2')(b2)\n",
    "                   \n",
    "# atrous rate = 18\n",
    "b3 = ZeroPadding2D(padding=(18,18))(b2)\n",
    "b3 = AtrousConvolution2D(filters=1024, atrous_rate=(18,18), kernel_size=(3,3), activation='relu', name='fc6_3')(b3)\n",
    "b3 = Dropout(0.5)(b3)\n",
    "b3 = Convolution2D(filters=1024, kernel_size=(1,1), activation='relu', name='fc7_3')(b3)\n",
    "b3 = Dropout(0.5)(b3)\n",
    "b3 = Convolution2D(filters=21, kernel_size=(1,1), activation='softmax', name='fc8_3')(b3)\n",
    "                   \n",
    "# atrous rate = 24\n",
    "b4 = ZeroPadding2D(padding=(24,24))(b3)\n",
    "b4 = AtrousConvolution2D(filters=1024, atrous_rate=(24,24), kernel_size=(3,3), activation='relu', name='fc6_4')(b4)\n",
    "b4 = Dropout(0.5)(b4)\n",
    "b4 = Convolution2D(filters=1024, kernel_size=(1,1), activation='relu', name='fc7_4')(b4)\n",
    "b4 = Dropout(0.5)(b4)\n",
    "b4 = Convolution2D(filters=21, kernel_size=(1,1), activation='softmax', name='fc8_4')(b4)\n",
    "                   \n",
    "# merge four scales\n",
    "s = merge([b1, b2, b3, b4], mode='sum')\n",
    "out = UpSampling2D(size=(8,8))(s)"
   ]
  },
  {
   "cell_type": "code",
   "execution_count": 24,
   "metadata": {},
   "outputs": [
    {
     "data": {
      "text/plain": [
       "tensorflow.python.framework.ops.Tensor"
      ]
     },
     "execution_count": 24,
     "metadata": {},
     "output_type": "execute_result"
    }
   ],
   "source": [
    "type(img_input)"
   ]
  },
  {
   "cell_type": "code",
   "execution_count": 25,
   "metadata": {},
   "outputs": [
    {
     "data": {
      "text/plain": [
       "tensorflow.python.framework.ops.Tensor"
      ]
     },
     "execution_count": 25,
     "metadata": {},
     "output_type": "execute_result"
    }
   ],
   "source": [
    "type(out)"
   ]
  },
  {
   "cell_type": "code",
   "execution_count": 23,
   "metadata": {},
   "outputs": [],
   "source": [
    "# constructing network model\n",
    "model = Model(inputs=img_input, outputs=out, name=\"deeplabV2\")"
   ]
  },
  {
   "cell_type": "code",
   "execution_count": 26,
   "metadata": {},
   "outputs": [
    {
     "data": {
      "text/plain": [
       "keras.engine.training.Model"
      ]
     },
     "execution_count": 26,
     "metadata": {},
     "output_type": "execute_result"
    }
   ],
   "source": [
    "type(model)"
   ]
  },
  {
   "cell_type": "code",
   "execution_count": 27,
   "metadata": {},
   "outputs": [
    {
     "name": "stdout",
     "output_type": "stream",
     "text": [
      "_________________________________________________________________\n",
      "Layer (type)                 Output Shape              Param #   \n",
      "=================================================================\n",
      "input_1 (InputLayer)         (None, 512, 512, 1)       0         \n",
      "_________________________________________________________________\n",
      "zero_padding2d_59 (ZeroPaddi (None, 514, 514, 1)       0         \n",
      "_________________________________________________________________\n",
      "conv1_1 (Conv2D)             (None, 512, 512, 64)      640       \n",
      "_________________________________________________________________\n",
      "zero_padding2d_60 (ZeroPaddi (None, 514, 514, 64)      0         \n",
      "_________________________________________________________________\n",
      "conv1_2 (Conv2D)             (None, 512, 512, 64)      36928     \n",
      "_________________________________________________________________\n",
      "zero_padding2d_61 (ZeroPaddi (None, 514, 514, 64)      0         \n",
      "_________________________________________________________________\n",
      "max_pooling2d_15 (MaxPooling (None, 256, 256, 64)      0         \n",
      "_________________________________________________________________\n",
      "zero_padding2d_62 (ZeroPaddi (None, 258, 258, 64)      0         \n",
      "_________________________________________________________________\n",
      "conv2_1 (Conv2D)             (None, 256, 256, 128)     73856     \n",
      "_________________________________________________________________\n",
      "zero_padding2d_63 (ZeroPaddi (None, 258, 258, 128)     0         \n",
      "_________________________________________________________________\n",
      "conv2_2 (Conv2D)             (None, 256, 256, 128)     147584    \n",
      "_________________________________________________________________\n",
      "zero_padding2d_64 (ZeroPaddi (None, 258, 258, 128)     0         \n",
      "_________________________________________________________________\n",
      "max_pooling2d_16 (MaxPooling (None, 128, 128, 128)     0         \n",
      "_________________________________________________________________\n",
      "zero_padding2d_65 (ZeroPaddi (None, 130, 130, 128)     0         \n",
      "_________________________________________________________________\n",
      "conv3_1 (Conv2D)             (None, 128, 128, 256)     295168    \n",
      "_________________________________________________________________\n",
      "zero_padding2d_66 (ZeroPaddi (None, 130, 130, 256)     0         \n",
      "_________________________________________________________________\n",
      "conv3_2 (Conv2D)             (None, 128, 128, 256)     590080    \n",
      "_________________________________________________________________\n",
      "zero_padding2d_67 (ZeroPaddi (None, 130, 130, 256)     0         \n",
      "_________________________________________________________________\n",
      "conv3_3 (Conv2D)             (None, 128, 128, 256)     590080    \n",
      "_________________________________________________________________\n",
      "zero_padding2d_68 (ZeroPaddi (None, 130, 130, 256)     0         \n",
      "_________________________________________________________________\n",
      "max_pooling2d_17 (MaxPooling (None, 64, 64, 256)       0         \n",
      "_________________________________________________________________\n",
      "zero_padding2d_69 (ZeroPaddi (None, 66, 66, 256)       0         \n",
      "_________________________________________________________________\n",
      "conv4_1 (Conv2D)             (None, 64, 64, 512)       1180160   \n",
      "_________________________________________________________________\n",
      "zero_padding2d_70 (ZeroPaddi (None, 66, 66, 512)       0         \n",
      "_________________________________________________________________\n",
      "conv4_2 (Conv2D)             (None, 64, 64, 512)       2359808   \n",
      "_________________________________________________________________\n",
      "zero_padding2d_71 (ZeroPaddi (None, 66, 66, 512)       0         \n",
      "_________________________________________________________________\n",
      "conv4_3 (Conv2D)             (None, 64, 64, 512)       2359808   \n",
      "_________________________________________________________________\n",
      "zero_padding2d_72 (ZeroPaddi (None, 66, 66, 512)       0         \n",
      "_________________________________________________________________\n",
      "max_pooling2d_18 (MaxPooling (None, 64, 64, 512)       0         \n",
      "_________________________________________________________________\n",
      "zero_padding2d_73 (ZeroPaddi (None, 68, 68, 512)       0         \n",
      "_________________________________________________________________\n",
      "conv5_1 (Conv2D)             (None, 64, 64, 512)       2359808   \n",
      "_________________________________________________________________\n",
      "zero_padding2d_74 (ZeroPaddi (None, 68, 68, 512)       0         \n",
      "_________________________________________________________________\n",
      "conv5_2 (Conv2D)             (None, 64, 64, 512)       2359808   \n",
      "_________________________________________________________________\n",
      "zero_padding2d_75 (ZeroPaddi (None, 68, 68, 512)       0         \n",
      "_________________________________________________________________\n",
      "conv5_3 (Conv2D)             (None, 64, 64, 512)       2359808   \n",
      "_________________________________________________________________\n",
      "zero_padding2d_76 (ZeroPaddi (None, 66, 66, 512)       0         \n",
      "_________________________________________________________________\n",
      "max_pooling2d_19 (MaxPooling (None, 64, 64, 512)       0         \n",
      "_________________________________________________________________\n",
      "zero_padding2d_77 (ZeroPaddi (None, 76, 76, 512)       0         \n",
      "_________________________________________________________________\n",
      "fc6_1 (Conv2D)               (None, 64, 64, 1024)      4719616   \n",
      "_________________________________________________________________\n",
      "dropout_17 (Dropout)         (None, 64, 64, 1024)      0         \n",
      "_________________________________________________________________\n",
      "fc7_1 (Conv2D)               (None, 64, 64, 1024)      1049600   \n",
      "_________________________________________________________________\n",
      "dropout_18 (Dropout)         (None, 64, 64, 1024)      0         \n",
      "_________________________________________________________________\n",
      "fc8_1 (Conv2D)               (None, 64, 64, 21)        21525     \n",
      "_________________________________________________________________\n",
      "zero_padding2d_78 (ZeroPaddi (None, 88, 88, 21)        0         \n",
      "_________________________________________________________________\n",
      "fc6_2 (Conv2D)               (None, 64, 64, 1024)      194560    \n",
      "_________________________________________________________________\n",
      "dropout_19 (Dropout)         (None, 64, 64, 1024)      0         \n",
      "_________________________________________________________________\n",
      "fc7_2 (Conv2D)               (None, 64, 64, 1024)      1049600   \n",
      "_________________________________________________________________\n",
      "dropout_20 (Dropout)         (None, 64, 64, 1024)      0         \n",
      "_________________________________________________________________\n",
      "fc8_2 (Conv2D)               (None, 64, 64, 21)        21525     \n",
      "_________________________________________________________________\n",
      "zero_padding2d_79 (ZeroPaddi (None, 100, 100, 21)      0         \n",
      "_________________________________________________________________\n",
      "fc6_3 (Conv2D)               (None, 64, 64, 1024)      194560    \n",
      "_________________________________________________________________\n",
      "dropout_21 (Dropout)         (None, 64, 64, 1024)      0         \n",
      "_________________________________________________________________\n",
      "fc7_3 (Conv2D)               (None, 64, 64, 1024)      1049600   \n",
      "_________________________________________________________________\n",
      "dropout_22 (Dropout)         (None, 64, 64, 1024)      0         \n",
      "_________________________________________________________________\n",
      "fc8_3 (Conv2D)               (None, 64, 64, 21)        21525     \n",
      "_________________________________________________________________\n",
      "zero_padding2d_80 (ZeroPaddi (None, 112, 112, 21)      0         \n",
      "_________________________________________________________________\n",
      "fc6_4 (Conv2D)               (None, 64, 64, 1024)      194560    \n",
      "_________________________________________________________________\n",
      "dropout_23 (Dropout)         (None, 64, 64, 1024)      0         \n",
      "_________________________________________________________________\n",
      "fc7_4 (Conv2D)               (None, 64, 64, 1024)      1049600   \n",
      "_________________________________________________________________\n",
      "dropout_24 (Dropout)         (None, 64, 64, 1024)      0         \n",
      "_________________________________________________________________\n",
      "fc8_4 (Conv2D)               (None, 64, 64, 21)        21525     \n",
      "_________________________________________________________________\n",
      "merge_3 (Merge)              (None, 64, 64, 21)        0         \n",
      "_________________________________________________________________\n",
      "up_sampling2d_3 (UpSampling2 (None, 512, 512, 21)      0         \n",
      "=================================================================\n",
      "Total params: 24,301,332.0\n",
      "Trainable params: 24,301,332.0\n",
      "Non-trainable params: 0.0\n",
      "_________________________________________________________________\n"
     ]
    }
   ],
   "source": [
    "# print model\n",
    "model.summary()"
   ]
  },
  {
   "cell_type": "code",
   "execution_count": 28,
   "metadata": {},
   "outputs": [],
   "source": [
    "# visualize\n",
    "from keras.utils import plot_model\n",
    "plot_model(model, to_file='./deeplab_2.png', show_shapes=True, show_layer_names=True)"
   ]
  },
  {
   "cell_type": "code",
   "execution_count": 10,
   "metadata": {},
   "outputs": [],
   "source": [
    "\"\"\"\n",
    "# block1 \n",
    "x = Conv2D(filters=64, kernel_size=(3,3), strides=(1,1), padding='same', activation='relu', name='block1_conv1',\n",
    "          kernel_regularizer=l2(weight_decay))(img_input)\n",
    "x = Conv2D(filters=64, kernel_size=(3,3), strides=(1,1), padding='same', activation='relu', name='block1_conv2',\n",
    "          kernel_regularizer=l2(weight_decay))(x)\n",
    "x = MaxPool2D(pool_size=(2,2), strides=(2,2), name='block1_pool')(x)\n",
    "\n",
    "# block2\n",
    "x = Conv2D(filters=128, kernel_size=(3,3), strides=(1,1), padding='same', activation='relu', name='block2_conv1',\n",
    "          kernel_regularizer=l2(weight_decay))(x)\n",
    "x = Conv2D(filters=128, kernel_size=(3,3), strides=(1,1), padding='same', activation='relu', name='block2_conv2',\n",
    "          kernel_regularizer=l2(weight_decay))(x)\n",
    "x = MaxPool2D(pool_size=(2,2), strides=(2,2), name='block2_pool')(x)\n",
    "\n",
    "# block3\n",
    "x = Conv2D(filters=256, kernel_size=(3,3), strides=(1,1), padding='same', activation='relu', name='block3_conv1',\n",
    "          kernel_regularizer=l2(weight_decay))(x)\n",
    "x = Conv2D(filters=256, kernel_size=(3,3), strides=(1,1), padding='same', activation='relu', name='block3_conv2',\n",
    "          kernel_regularizer=l2(weight_decay))(x)\n",
    "x = Conv2D(filters=256, kernel_size=(3,3), strides=(1,1), padding='same', activation='relu', name='block3_conv3',\n",
    "          kernel_regularizer=l2(weight_decay))(x)\n",
    "x = MaxPool2D(pool_size=(2,2), strides=(2,2), name='block3_pool')(x)\n",
    "\n",
    "# block4\n",
    "x = Conv2D(filters=512, kernel_size=(3,3), strides=(1,1), padding='same', activation='relu', name='block4_conv1',\n",
    "          kernel_regularizer=l2(weight_decay))(x)\n",
    "x = Conv2D(filters=512, kernel_size=(3,3), strides=(1,1), padding='same', activation='relu', name='block4_conv2',\n",
    "          kernel_regularizer=l2(weight_decay))(x)\n",
    "x = Conv2D(filters=512, kernel_size=(3,3), strides=(1,1), padding='same', activation='relu', name='block4_conv3',\n",
    "          kernel_regularizer=l2(weight_decay))(x)\n",
    "x = MaxPool2D(pool_size=(2,2), strides=(2,2), name='block4_pool')(x)\n",
    "\n",
    "# block5\n",
    "x = Conv2D(filters=512, kernel_size=(3,3), strides=(1,1), padding='same', activation='relu', name='block5_conv1',\n",
    "          kernel_regularizer=l2(weight_decay))(x)\n",
    "x = Conv2D(filters=512, kernel_size=(3,3), strides=(1,1), padding='same', activation='relu', name='block5_conv2',\n",
    "          kernel_regularizer=l2(weight_decay))(x)\n",
    "x = Conv2D(filters=512, kernel_size=(3,3), strides=(1,1), padding='same', activation='relu', name='block5_conv3',\n",
    "          kernel_regularizer=l2(weight_decay))(x)\n",
    "x = MaxPool2D(pool_size=(2,2), strides=(2,2), name='block5_pool')(x)\n",
    "\n",
    "# fully convolutional\n",
    "x = Conv2D(filters=4096, kernel_size=(7,7), activation='relu', padding='same', name='fc1', \n",
    "           kernel_regularizer=l2(weight_decay))(x)\n",
    "x = Dropout(0.5)(x)\n",
    "x = Conv2D(filters=4096,kernel_size=(1,1), activation='relu', padding='same', name='fc2',\n",
    "           kernel_regularizer=l2(weight_decay))(x)\n",
    "x = Dropout(0.5)(x)\n",
    "\n",
    "# segment\n",
    "x = Conv2D(filters=21, kernel_size=(1,1), activation='softmax', padding='same',\n",
    "           kernel_regularizer=l2(weight_decay))(x)\n",
    "\n",
    "# upsample x 32\n",
    "x = UpSampling2D(size=(32,32))(x)\n",
    "\"\"\""
   ]
  },
  {
   "cell_type": "code",
   "execution_count": 11,
   "metadata": {},
   "outputs": [],
   "source": [
    "# construct final model\n",
    "model = Model(inputs=img_input, outputs=x)"
   ]
  },
  {
   "cell_type": "code",
   "execution_count": 13,
   "metadata": {},
   "outputs": [
    {
     "name": "stdout",
     "output_type": "stream",
     "text": [
      "_________________________________________________________________\n",
      "Layer (type)                 Output Shape              Param #   \n",
      "=================================================================\n",
      "input_1 (InputLayer)         (None, 512, 512, 3)       0         \n",
      "_________________________________________________________________\n",
      "block1_conv1 (Conv2D)        (None, 512, 512, 64)      1792      \n",
      "_________________________________________________________________\n",
      "block1_conv2 (Conv2D)        (None, 512, 512, 64)      36928     \n",
      "_________________________________________________________________\n",
      "block1_pool (MaxPooling2D)   (None, 256, 256, 64)      0         \n",
      "_________________________________________________________________\n",
      "block2_conv1 (Conv2D)        (None, 256, 256, 128)     73856     \n",
      "_________________________________________________________________\n",
      "block2_conv2 (Conv2D)        (None, 256, 256, 128)     147584    \n",
      "_________________________________________________________________\n",
      "block2_pool (MaxPooling2D)   (None, 128, 128, 128)     0         \n",
      "_________________________________________________________________\n",
      "block3_conv1 (Conv2D)        (None, 128, 128, 256)     295168    \n",
      "_________________________________________________________________\n",
      "block3_conv2 (Conv2D)        (None, 128, 128, 256)     590080    \n",
      "_________________________________________________________________\n",
      "block3_conv3 (Conv2D)        (None, 128, 128, 256)     590080    \n",
      "_________________________________________________________________\n",
      "block3_pool (MaxPooling2D)   (None, 64, 64, 256)       0         \n",
      "_________________________________________________________________\n",
      "block4_conv1 (Conv2D)        (None, 64, 64, 512)       1180160   \n",
      "_________________________________________________________________\n",
      "block4_conv2 (Conv2D)        (None, 64, 64, 512)       2359808   \n",
      "_________________________________________________________________\n",
      "block4_conv3 (Conv2D)        (None, 64, 64, 512)       2359808   \n",
      "_________________________________________________________________\n",
      "block4_pool (MaxPooling2D)   (None, 32, 32, 512)       0         \n",
      "_________________________________________________________________\n",
      "block5_conv1 (Conv2D)        (None, 32, 32, 512)       2359808   \n",
      "_________________________________________________________________\n",
      "block5_conv2 (Conv2D)        (None, 32, 32, 512)       2359808   \n",
      "_________________________________________________________________\n",
      "block5_conv3 (Conv2D)        (None, 32, 32, 512)       2359808   \n",
      "_________________________________________________________________\n",
      "block5_pool (MaxPooling2D)   (None, 16, 16, 512)       0         \n",
      "_________________________________________________________________\n",
      "fc1 (Conv2D)                 (None, 16, 16, 4096)      102764544 \n",
      "_________________________________________________________________\n",
      "dropout_1 (Dropout)          (None, 16, 16, 4096)      0         \n",
      "_________________________________________________________________\n",
      "fc2 (Conv2D)                 (None, 16, 16, 4096)      16781312  \n",
      "_________________________________________________________________\n",
      "dropout_2 (Dropout)          (None, 16, 16, 4096)      0         \n",
      "_________________________________________________________________\n",
      "conv2d_1 (Conv2D)            (None, 16, 16, 21)        86037     \n",
      "_________________________________________________________________\n",
      "up_sampling2d_1 (UpSampling2 (None, 512, 512, 21)      0         \n",
      "=================================================================\n",
      "Total params: 134,346,581.0\n",
      "Trainable params: 134,346,581.0\n",
      "Non-trainable params: 0.0\n",
      "_________________________________________________________________\n"
     ]
    }
   ],
   "source": [
    "# print model details (e.g. feature map's size)\n",
    "model.summary()"
   ]
  },
  {
   "cell_type": "code",
   "execution_count": 28,
   "metadata": {},
   "outputs": [],
   "source": [
    "??plot_model"
   ]
  },
  {
   "cell_type": "code",
   "execution_count": 14,
   "metadata": {},
   "outputs": [],
   "source": [
    "# visualize\n",
    "from keras.utils import plot_model\n",
    "plot_model(model, to_file='./fcn.png', show_shapes=True, show_layer_names=True)"
   ]
  },
  {
   "cell_type": "markdown",
   "metadata": {},
   "source": [
    "### fcn.png\n",
    "https://github.com/amiltonwong/xl_dl/blob/master/keras_seg/fcn.png"
   ]
  },
  {
   "cell_type": "code",
   "execution_count": null,
   "metadata": {},
   "outputs": [],
   "source": []
  }
 ],
 "metadata": {
  "kernelspec": {
   "display_name": "Python 2",
   "language": "python",
   "name": "python2"
  },
  "language_info": {
   "codemirror_mode": {
    "name": "ipython",
    "version": 2
   },
   "file_extension": ".py",
   "mimetype": "text/x-python",
   "name": "python",
   "nbconvert_exporter": "python",
   "pygments_lexer": "ipython2",
   "version": "2.7.14"
  },
  "widgets": {
   "state": {},
   "version": "1.1.2"
  }
 },
 "nbformat": 4,
 "nbformat_minor": 2
}
