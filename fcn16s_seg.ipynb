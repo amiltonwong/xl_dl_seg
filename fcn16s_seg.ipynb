{
 "cells": [
  {
   "cell_type": "code",
   "execution_count": 10,
   "metadata": {},
   "outputs": [
    {
     "data": {
      "text/plain": [
       "0"
      ]
     },
     "execution_count": 10,
     "metadata": {},
     "output_type": "execute_result"
    }
   ],
   "source": [
    "# use python2\n",
    "\n",
    "# use only one GPU device\n",
    "import os\n",
    "os.environ['CUDA_VISIBLE_DEVICES']='0'\n",
    "os.system('echo $CUDA_VISIBLE_DEVICES')"
   ]
  },
  {
   "cell_type": "code",
   "execution_count": 11,
   "metadata": {},
   "outputs": [],
   "source": [
    "import tensorflow as tf\n",
    "from keras.backend.tensorflow_backend import set_session"
   ]
  },
  {
   "cell_type": "code",
   "execution_count": 12,
   "metadata": {},
   "outputs": [],
   "source": [
    "config = tf.ConfigProto()"
   ]
  },
  {
   "cell_type": "code",
   "execution_count": 13,
   "metadata": {},
   "outputs": [],
   "source": [
    "config.gpu_options.allow_growth = True"
   ]
  },
  {
   "cell_type": "code",
   "execution_count": 14,
   "metadata": {},
   "outputs": [],
   "source": [
    "set_session(tf.Session(config=config))"
   ]
  },
  {
   "cell_type": "code",
   "execution_count": 21,
   "metadata": {},
   "outputs": [],
   "source": [
    "from keras.models import Model\n",
    "from keras.layers import Conv2D, MaxPool2D, Dropout, UpSampling2D, Input, merge"
   ]
  },
  {
   "cell_type": "code",
   "execution_count": 16,
   "metadata": {},
   "outputs": [],
   "source": [
    "from keras.regularizers import l2"
   ]
  },
  {
   "cell_type": "code",
   "execution_count": 17,
   "metadata": {},
   "outputs": [],
   "source": [
    "weight_decay = 0.01"
   ]
  },
  {
   "cell_type": "code",
   "execution_count": 18,
   "metadata": {},
   "outputs": [],
   "source": [
    "input_shape = (512, 512, 3)\n",
    "img_input = Input(shape=input_shape)"
   ]
  },
  {
   "cell_type": "code",
   "execution_count": 22,
   "metadata": {},
   "outputs": [
    {
     "data": {
      "text/plain": [
       "<tf.Tensor 'dropout_8/cond/Merge:0' shape=(?, 32, 32, 4096) dtype=float32>"
      ]
     },
     "execution_count": 22,
     "metadata": {},
     "output_type": "execute_result"
    }
   ],
   "source": [
    "x"
   ]
  },
  {
   "cell_type": "code",
   "execution_count": 31,
   "metadata": {},
   "outputs": [
    {
     "name": "stderr",
     "output_type": "stream",
     "text": [
      "/root/anaconda2/envs/py2.7_tf1.0/lib/python2.7/site-packages/ipykernel_launcher.py:74: UserWarning: The `merge` function is deprecated and will be removed after 08/2017. Use instead layers from `keras.layers.merge`, e.g. `add`, `concatenate`, etc.\n"
     ]
    }
   ],
   "source": [
    "# block1 \n",
    "x = Conv2D(filters=64, kernel_size=(3,3), strides=(1,1), padding='same', activation='relu', name='block1_conv1',\n",
    "          kernel_regularizer=l2(weight_decay))(img_input)\n",
    "x = Conv2D(filters=64, kernel_size=(3,3), strides=(1,1), padding='same', activation='relu', name='block1_conv2',\n",
    "          kernel_regularizer=l2(weight_decay))(x)\n",
    "x = MaxPool2D(pool_size=(2,2), strides=(2,2), name='block1_pool')(x)\n",
    "\n",
    "# block2\n",
    "x = Conv2D(filters=128, kernel_size=(3,3), strides=(1,1), padding='same', activation='relu', name='block2_conv1',\n",
    "          kernel_regularizer=l2(weight_decay))(x)\n",
    "x = Conv2D(filters=128, kernel_size=(3,3), strides=(1,1), padding='same', activation='relu', name='block2_conv2',\n",
    "          kernel_regularizer=l2(weight_decay))(x)\n",
    "x = MaxPool2D(pool_size=(2,2), strides=(2,2), name='block2_pool')(x)\n",
    "\n",
    "# block3\n",
    "x = Conv2D(filters=256, kernel_size=(3,3), strides=(1,1), padding='same', activation='relu', name='block3_conv1',\n",
    "          kernel_regularizer=l2(weight_decay))(x)\n",
    "x = Conv2D(filters=256, kernel_size=(3,3), strides=(1,1), padding='same', activation='relu', name='block3_conv2',\n",
    "          kernel_regularizer=l2(weight_decay))(x)\n",
    "x = Conv2D(filters=256, kernel_size=(3,3), strides=(1,1), padding='same', activation='relu', name='block3_conv3',\n",
    "          kernel_regularizer=l2(weight_decay))(x)\n",
    "x = MaxPool2D(pool_size=(2,2), strides=(2,2), name='block3_pool')(x)\n",
    "\n",
    "# block4\n",
    "x = Conv2D(filters=512, kernel_size=(3,3), strides=(1,1), padding='same', activation='relu', name='block4_conv1',\n",
    "          kernel_regularizer=l2(weight_decay))(x)\n",
    "x = Conv2D(filters=512, kernel_size=(3,3), strides=(1,1), padding='same', activation='relu', name='block4_conv2',\n",
    "          kernel_regularizer=l2(weight_decay))(x)\n",
    "x = Conv2D(filters=512, kernel_size=(3,3), strides=(1,1), padding='same', activation='relu', name='block4_conv3',\n",
    "          kernel_regularizer=l2(weight_decay))(x)\n",
    "x4 = MaxPool2D(pool_size=(2,2), strides=(2,2), name='block4_pool')(x)\n",
    "\n",
    "# block5\n",
    "x = Conv2D(filters=512, kernel_size=(3,3), strides=(1,1), padding='same', activation='relu', name='block5_conv1',\n",
    "          kernel_regularizer=l2(weight_decay))(x4)\n",
    "x = Conv2D(filters=512, kernel_size=(3,3), strides=(1,1), padding='same', activation='relu', name='block5_conv2',\n",
    "          kernel_regularizer=l2(weight_decay))(x)\n",
    "x = Conv2D(filters=512, kernel_size=(3,3), strides=(1,1), padding='same', activation='relu', name='block5_conv3',\n",
    "          kernel_regularizer=l2(weight_decay))(x)\n",
    "x = MaxPool2D(pool_size=(2,2), strides=(2,2), name='block5_pool')(x)\n",
    "\n",
    "# fully convolutional\n",
    "x = Conv2D(filters=4096, kernel_size=(7,7), activation='relu', padding='same', name='fc1', \n",
    "           kernel_regularizer=l2(weight_decay))(x)\n",
    "x = Dropout(0.5)(x)\n",
    "x = Conv2D(filters=4096,kernel_size=(1,1), activation='relu', padding='same', name='fc2',\n",
    "           kernel_regularizer=l2(weight_decay))(x)\n",
    "x = Dropout(0.5)(x)\n",
    "\n",
    "# segment\n",
    "x = Conv2D(filters=21, kernel_size=(1,1), activation='softmax', padding='same',\n",
    "           kernel_regularizer=l2(weight_decay))(x)\n",
    "\n",
    "# upsample x 32\n",
    "x = UpSampling2D(size=(32,32))(x)\n",
    "\n",
    "# Add\n",
    "# fully convolutional\n",
    "y = Conv2D(filters=4096, kernel_size=(7,7), activation='relu', padding='same', name='fc1_', \n",
    "           kernel_regularizer=l2(weight_decay))(x4)\n",
    "y = Dropout(0.5)(y)\n",
    "y = Conv2D(filters=4096,kernel_size=(1,1), activation='relu', padding='same', name='fc2_',\n",
    "           kernel_regularizer=l2(weight_decay))(y)\n",
    "y = Dropout(0.5)(y)\n",
    "\n",
    "# segment\n",
    "y = Conv2D(filters=21, kernel_size=(1,1), activation='softmax', padding='same',\n",
    "           kernel_regularizer=l2(weight_decay))(y)\n",
    "\n",
    "# upsample x 16\n",
    "y = UpSampling2D(size=(16,16))(y)\n",
    "\n",
    "# merge\n",
    "x = merge([x, y] , mode='sum')"
   ]
  },
  {
   "cell_type": "code",
   "execution_count": 32,
   "metadata": {},
   "outputs": [],
   "source": [
    "# construct final model\n",
    "model = Model(inputs=img_input, outputs=x)"
   ]
  },
  {
   "cell_type": "code",
   "execution_count": 33,
   "metadata": {},
   "outputs": [
    {
     "name": "stdout",
     "output_type": "stream",
     "text": [
      "____________________________________________________________________________________________________\n",
      "Layer (type)                     Output Shape          Param #     Connected to                     \n",
      "====================================================================================================\n",
      "input_2 (InputLayer)             (None, 512, 512, 3)   0                                            \n",
      "____________________________________________________________________________________________________\n",
      "block1_conv1 (Conv2D)            (None, 512, 512, 64)  1792                                         \n",
      "____________________________________________________________________________________________________\n",
      "block1_conv2 (Conv2D)            (None, 512, 512, 64)  36928                                        \n",
      "____________________________________________________________________________________________________\n",
      "block1_pool (MaxPooling2D)       (None, 256, 256, 64)  0                                            \n",
      "____________________________________________________________________________________________________\n",
      "block2_conv1 (Conv2D)            (None, 256, 256, 128) 73856                                        \n",
      "____________________________________________________________________________________________________\n",
      "block2_conv2 (Conv2D)            (None, 256, 256, 128) 147584                                       \n",
      "____________________________________________________________________________________________________\n",
      "block2_pool (MaxPooling2D)       (None, 128, 128, 128) 0                                            \n",
      "____________________________________________________________________________________________________\n",
      "block3_conv1 (Conv2D)            (None, 128, 128, 256) 295168                                       \n",
      "____________________________________________________________________________________________________\n",
      "block3_conv2 (Conv2D)            (None, 128, 128, 256) 590080                                       \n",
      "____________________________________________________________________________________________________\n",
      "block3_conv3 (Conv2D)            (None, 128, 128, 256) 590080                                       \n",
      "____________________________________________________________________________________________________\n",
      "block3_pool (MaxPooling2D)       (None, 64, 64, 256)   0                                            \n",
      "____________________________________________________________________________________________________\n",
      "block4_conv1 (Conv2D)            (None, 64, 64, 512)   1180160                                      \n",
      "____________________________________________________________________________________________________\n",
      "block4_conv2 (Conv2D)            (None, 64, 64, 512)   2359808                                      \n",
      "____________________________________________________________________________________________________\n",
      "block4_conv3 (Conv2D)            (None, 64, 64, 512)   2359808                                      \n",
      "____________________________________________________________________________________________________\n",
      "block4_pool (MaxPooling2D)       (None, 32, 32, 512)   0                                            \n",
      "____________________________________________________________________________________________________\n",
      "block5_conv1 (Conv2D)            (None, 32, 32, 512)   2359808                                      \n",
      "____________________________________________________________________________________________________\n",
      "block5_conv2 (Conv2D)            (None, 32, 32, 512)   2359808                                      \n",
      "____________________________________________________________________________________________________\n",
      "block5_conv3 (Conv2D)            (None, 32, 32, 512)   2359808                                      \n",
      "____________________________________________________________________________________________________\n",
      "block5_pool (MaxPooling2D)       (None, 16, 16, 512)   0                                            \n",
      "____________________________________________________________________________________________________\n",
      "fc1 (Conv2D)                     (None, 16, 16, 4096)  102764544                                    \n",
      "____________________________________________________________________________________________________\n",
      "fc1_ (Conv2D)                    (None, 32, 32, 4096)  102764544                                    \n",
      "____________________________________________________________________________________________________\n",
      "dropout_21 (Dropout)             (None, 16, 16, 4096)  0                                            \n",
      "____________________________________________________________________________________________________\n",
      "dropout_23 (Dropout)             (None, 32, 32, 4096)  0                                            \n",
      "____________________________________________________________________________________________________\n",
      "fc2 (Conv2D)                     (None, 16, 16, 4096)  16781312                                     \n",
      "____________________________________________________________________________________________________\n",
      "fc2_ (Conv2D)                    (None, 32, 32, 4096)  16781312                                     \n",
      "____________________________________________________________________________________________________\n",
      "dropout_22 (Dropout)             (None, 16, 16, 4096)  0                                            \n",
      "____________________________________________________________________________________________________\n",
      "dropout_24 (Dropout)             (None, 32, 32, 4096)  0                                            \n",
      "____________________________________________________________________________________________________\n",
      "conv2d_11 (Conv2D)               (None, 16, 16, 21)    86037                                        \n",
      "____________________________________________________________________________________________________\n",
      "conv2d_12 (Conv2D)               (None, 32, 32, 21)    86037                                        \n",
      "____________________________________________________________________________________________________\n",
      "up_sampling2d_10 (UpSampling2D)  (None, 512, 512, 21)  0                                            \n",
      "____________________________________________________________________________________________________\n",
      "up_sampling2d_11 (UpSampling2D)  (None, 512, 512, 21)  0                                            \n",
      "____________________________________________________________________________________________________\n",
      "merge_4 (Merge)                  (None, 512, 512, 21)  0                                            \n",
      "====================================================================================================\n",
      "Total params: 253,978,474.0\n",
      "Trainable params: 253,978,474.0\n",
      "Non-trainable params: 0.0\n",
      "____________________________________________________________________________________________________\n"
     ]
    }
   ],
   "source": [
    "# print model details (e.g. feature map's size)\n",
    "model.summary()"
   ]
  },
  {
   "cell_type": "code",
   "execution_count": 28,
   "metadata": {},
   "outputs": [],
   "source": [
    "??plot_model"
   ]
  },
  {
   "cell_type": "code",
   "execution_count": 34,
   "metadata": {},
   "outputs": [],
   "source": [
    "# visualize\n",
    "from keras.utils import plot_model\n",
    "plot_model(model, to_file='./fcn16s.png', show_shapes=True, show_layer_names=True)"
   ]
  },
  {
   "cell_type": "markdown",
   "metadata": {},
   "source": [
    "### fcn.png\n",
    "https://github.com/amiltonwong/xl_dl/blob/master/keras_seg/fcn.png"
   ]
  },
  {
   "cell_type": "code",
   "execution_count": null,
   "metadata": {},
   "outputs": [],
   "source": []
  }
 ],
 "metadata": {
  "kernelspec": {
   "display_name": "Python 2",
   "language": "python",
   "name": "python2"
  },
  "language_info": {
   "codemirror_mode": {
    "name": "ipython",
    "version": 2
   },
   "file_extension": ".py",
   "mimetype": "text/x-python",
   "name": "python",
   "nbconvert_exporter": "python",
   "pygments_lexer": "ipython2",
   "version": "2.7.14"
  },
  "widgets": {
   "state": {},
   "version": "1.1.2"
  }
 },
 "nbformat": 4,
 "nbformat_minor": 2
}
